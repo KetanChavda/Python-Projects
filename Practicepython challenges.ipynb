{
 "cells": [
  {
   "cell_type": "markdown",
   "metadata": {},
   "source": [
    "# Return values in string less than 10:"
   ]
  },
  {
   "cell_type": "code",
   "execution_count": null,
   "metadata": {},
   "outputs": [],
   "source": [
    "a = [1, 1, 2, 3, 5, 8, 13, 21, 34, 55, 89]\n",
    "Print in new list"
   ]
  },
  {
   "cell_type": "code",
   "execution_count": null,
   "metadata": {},
   "outputs": [],
   "source": [
    "res = []\n",
    "for i in a:\n",
    "    if i <= 10:\n",
    "        res+= [i]\n",
    "print res"
   ]
  },
  {
   "cell_type": "markdown",
   "metadata": {},
   "source": [
    "## Divisors  \n",
    "## Exercise 4 \n",
    "## Create a program that asks the user for a number and then prints out a list of all the divisors of that number. \n",
    "## (If you don’t know what a divisor is, it is a number that divides evenly into another number. \n",
    "## For example, 13 is a divisor of 26 because 26 / 13 has no remainder.)"
   ]
  },
  {
   "cell_type": "code",
   "execution_count": null,
   "metadata": {},
   "outputs": [],
   "source": [
    "nums = input(\"Give me a number: \")\n",
    "def devisors(n):\n",
    "    lst = []\n",
    "    for i in range(2,n):\n",
    "        if n%i == 0:\n",
    "            lst += [i]\n",
    "    return lst\n",
    "res = devisors(nums)\n",
    "print (\"Here's a list of the divisors: \"+str(res))"
   ]
  },
  {
   "cell_type": "markdown",
   "metadata": {},
   "source": [
    "# Exercise 5 \n",
    "## Take two lists, say for example these two:\n",
    "\n",
    "## a = [1, 1, 2, 3, 5, 8, 13, 21, 34, 55, 89]\n",
    "## b = [1, 2, 3, 4, 5, 6, 7, 8, 9, 10, 11, 12, 13]\n",
    "## and write a program that returns a list that contains only the elements that are common between the lists \n",
    "## (without duplicates).\n",
    "## Make sure your program works on two lists of different sizes."
   ]
  },
  {
   "cell_type": "code",
   "execution_count": null,
   "metadata": {},
   "outputs": [],
   "source": [
    "a = [1, 1, 2, 3, 5, 8, 13, 21, 34, 55, 89]\n",
    "b = [1, 2, 3, 4, 5, 6, 7, 8, 9, 10, 11, 12, 13]"
   ]
  },
  {
   "cell_type": "code",
   "execution_count": null,
   "metadata": {},
   "outputs": [],
   "source": [
    "def overlap(x,y):\n",
    "    olap = []\n",
    "    if max(x)>= max(y):\n",
    "        for i in range((max(x))):\n",
    "            if i in y:\n",
    "                olap += [i]\n",
    "    else:\n",
    "        for i in range((max(y))):\n",
    "            if i in x:\n",
    "                olap += [i]\n",
    "    return olap"
   ]
  },
  {
   "cell_type": "code",
   "execution_count": null,
   "metadata": {},
   "outputs": [],
   "source": [
    "overlap(a,b)"
   ]
  },
  {
   "cell_type": "markdown",
   "metadata": {},
   "source": [
    "## Exercise 6 (and Solution)\n",
    "Ask the user for a string and print out whether this string is a palindrome or not. (A palindrome is a string that reads the same forwards and backwards."
   ]
  },
  {
   "cell_type": "code",
   "execution_count": null,
   "metadata": {},
   "outputs": [],
   "source": [
    "pal = input (\"Go on, give me a word: \")\n",
    "if pal[::-1] == pal[::]:\n",
    "    print (\"This is a palindrome! Good job\")\n",
    "else:\n",
    "    print (\"This is not a palindrome, because {} backwards is just {}.\".format(pal,pal[::-1]))"
   ]
  },
  {
   "cell_type": "markdown",
   "metadata": {},
   "source": [
    "## Exercise 7: List comprehensions\n",
    "\n",
    "Let’s say I give you a list saved in a variable: a = [1, 4, 9, 16, 25, 36, 49, 64, 81, 100]. Write one line of Python that takes this list a and makes a new list that has only the even elements of this list in it."
   ]
  },
  {
   "cell_type": "code",
   "execution_count": null,
   "metadata": {},
   "outputs": [],
   "source": [
    "a = [1, 4, 9, 16, 25, 36, 49, 64, 81, 100]"
   ]
  },
  {
   "cell_type": "code",
   "execution_count": null,
   "metadata": {},
   "outputs": [],
   "source": [
    "b = list(i for i in a if i%2 ==0)"
   ]
  },
  {
   "cell_type": "code",
   "execution_count": null,
   "metadata": {},
   "outputs": [],
   "source": [
    "print (b)\n"
   ]
  },
  {
   "cell_type": "markdown",
   "metadata": {},
   "source": [
    "## Exercise 8: Rock, Paper, Scissors\n",
    "Make a two-player Rock-Paper-Scissors game. (Hint: Ask for player plays (using input), compare them, print out a message of congratulations to the winner, and ask if the players want to start a new game)\n",
    "\n",
    "Remember the rules:\n",
    "\n",
    "Rock beats scissors\n",
    "Scissors beats paper\n",
    "Paper beats rock"
   ]
  },
  {
   "cell_type": "code",
   "execution_count": null,
   "metadata": {},
   "outputs": [],
   "source": [
    "from random import randint\n",
    "choice = input(\"Rock, Paper or Scissors?: \")\n",
    "choices = [\"Rock\", \"Paper\", \"Scissors\"]\n",
    "def game(x,y):\n",
    "    if x == \"Rock\":\n",
    "        if y == \"Paper\":\n",
    "            return (\"I choose paper, you lose!\")\n",
    "        elif y == \"Rock\":\n",
    "            return(\"Rock, that's a draw...\")\n",
    "        else:\n",
    "            return (\"Darn it, Rock beats Paper, you win!\")\n",
    "    elif x == \"Paper\":\n",
    "        if y == \"Rock\": return(\"I chose Paper, you win :(\")\n",
    "        elif y == \"Paper\": return(\"Paper... Draw!\")\n",
    "        elif y==\"Scissors\": return(\"HA, my Scissors cut your Paper!\")\n",
    "    elif x == \"Scissors\":\n",
    "        if y ==\"Rock\": return (\"Rock crushes Scissors, you lose!\")\n",
    "        if y == \"Paper\": return(\"My Paper got shredded, you win!\")\n",
    "        if y == \"Scissors\": return (\"Draw!\")\n",
    "if choice not in choices:\n",
    "    print (\"That's not an option, you fool!\")\n",
    "else:\n",
    "    print (game(choice, choices[randint(0,2)]))\n"
   ]
  },
  {
   "cell_type": "markdown",
   "metadata": {},
   "source": [
    "## Exercise 9: Guessing Game 1\n",
    "Generate a random number between 1 and 9 (including 1 and 9). Ask the user to guess the number, then tell them whether they guessed too low, too high, or exactly right. (Hint: remember to use the user input lessons from the very first exercise)\n",
    "\n",
    "Extras:\n",
    "\n",
    "Keep the game going until the user types “exit”\n",
    "Keep track of how many guesses the user has taken, and when the game ends, print this out.\n"
   ]
  },
  {
   "cell_type": "code",
   "execution_count": null,
   "metadata": {},
   "outputs": [],
   "source": [
    "from random import randint\n",
    "def guessgame(u,ab):\n",
    "    if u < ab:\n",
    "        return \"Higher!\"\n",
    "    elif u > ab:\n",
    "        return \"Lower!\"\n",
    "    elif u == ab:\n",
    "        return \"You got it!\"\n",
    "hilo = randint(1,9)\n",
    "guess = int(input(\"Guess a number between 1 and 9: \"))\n",
    "if guess <1 or guess >9:\n",
    "    print (\"Not between 1 and 9!\")\n",
    "else:\n",
    "    print (guessgame(guess, hilo))"
   ]
  },
  {
   "cell_type": "markdown",
   "metadata": {},
   "source": [
    "## Exercise 11: Check Primality Functions \n",
    "Ask the user for a number and determine whether the number is prime or not. (For those who have forgotten, a prime number is a number that has no divisors.). You can (and should!) use your answer to Exercise 4 to help you. Take this opportunity to practice using functions, described below."
   ]
  },
  {
   "cell_type": "code",
   "execution_count": 21,
   "metadata": {},
   "outputs": [
    {
     "name": "stdout",
     "output_type": "stream",
     "text": [
      "Give me a number to check its primality: 8\n",
      "8 is not prime!\n"
     ]
    }
   ],
   "source": [
    "prinum = int(input(\"Give me a number to check its primality: \"))\n",
    "for i in range (2, prinum):\n",
    "    if prinum%i == 0:\n",
    "        print (f\"{prinum} is not prime!\")\n",
    "        break\n",
    "    else:\n",
    "        print (\"Hurray! {} is prime!\".format(prinum))\n",
    "        break"
   ]
  },
  {
   "cell_type": "markdown",
   "metadata": {},
   "source": [
    "## Exercise 13: Fibonacci:\n",
    "Write a program that asks the user how many Fibonnaci numbers to generate and then generates them. Take this opportunity to think about how you can use functions. Make sure to ask the user to enter the number of numbers in the sequence to generate.(Hint: The Fibonnaci seqence is a sequence of numbers where the next number in the sequence is the sum of the previous two numbers in the sequence. The sequence looks like this: 1, 1, 2, 3, 5, 8, 13, …)"
   ]
  },
  {
   "cell_type": "code",
   "execution_count": 7,
   "metadata": {},
   "outputs": [
    {
     "name": "stdout",
     "output_type": "stream",
     "text": [
      "How many numbers do you want? 8\n",
      "[1, 1, 2, 3, 5, 8, 13, 21]\n"
     ]
    }
   ],
   "source": [
    "no_of_no = int(input(\"How many numbers do you want? \"))\n",
    "def fibon(x):\n",
    "    i = 2\n",
    "    lstf = [1,1]\n",
    "    while i < x:\n",
    "        lstf.append(lstf[i-1]+lstf[i-2])\n",
    "        i +=1\n",
    "    return lstf\n",
    "\n",
    "print (fibon(no_of_no)[:no_of_no])"
   ]
  },
  {
   "cell_type": "markdown",
   "metadata": {},
   "source": [
    "## Exercise 14: Random Password generator\n",
    "Make a random password of length 8 characters, such that it has upper and lower cases, as well as numbers and symbols"
   ]
  },
  {
   "cell_type": "code",
   "execution_count": 75,
   "metadata": {},
   "outputs": [
    {
     "name": "stdout",
     "output_type": "stream",
     "text": [
      "How long do you want your password? 9\n",
      "Here you go: sD$mYeQ2\n"
     ]
    }
   ],
   "source": [
    "import random\n",
    "pswd = \"\"\n",
    "i = 1\n",
    "length = int(input(\"How long do you want your password? \"))\n",
    "while i <length:\n",
    "    a = random.randint(1,7)\n",
    "    if a == 1 or a == 5:\n",
    "        pswd += random.choice(\"qwertyuiopasdfghjklzxcvbnm\")\n",
    "    elif a == 2 or a == 6:\n",
    "        pswd += random.choice(\"qwertyuiopasdfghjklzxcvbnm\".upper())\n",
    "    elif a == 3:\n",
    "        pswd += random.choice(\"?@#~£$%^&\")\n",
    "    elif a ==4 or a == 7:\n",
    "        pswd += str(random.randint(0,9))\n",
    "    i +=1\n",
    "print (f\"Here you go: {pswd}\")\n"
   ]
  },
  {
   "cell_type": "code",
   "execution_count": 78,
   "metadata": {},
   "outputs": [
    {
     "name": "stdout",
     "output_type": "stream",
     "text": [
      "number1:1\n",
      "number2:2\n"
     ]
    },
    {
     "ename": "TypeError",
     "evalue": "unsupported operand type(s) for /: 'str' and 'str'",
     "output_type": "error",
     "traceback": [
      "\u001b[1;31m---------------------------------------------------------------------------\u001b[0m",
      "\u001b[1;31mTypeError\u001b[0m                                 Traceback (most recent call last)",
      "\u001b[1;32m<ipython-input-78-b3f014196730>\u001b[0m in \u001b[0;36m<module>\u001b[1;34m\u001b[0m\n\u001b[0;32m      1\u001b[0m \u001b[0mn1\u001b[0m\u001b[1;33m=\u001b[0m\u001b[0minput\u001b[0m\u001b[1;33m(\u001b[0m\u001b[1;34m\"number1:\"\u001b[0m\u001b[1;33m)\u001b[0m\u001b[1;33m\u001b[0m\u001b[1;33m\u001b[0m\u001b[0m\n\u001b[0;32m      2\u001b[0m \u001b[0mn2\u001b[0m \u001b[1;33m=\u001b[0m \u001b[0minput\u001b[0m\u001b[1;33m(\u001b[0m\u001b[1;34m\"number2:\"\u001b[0m\u001b[1;33m)\u001b[0m\u001b[1;33m\u001b[0m\u001b[1;33m\u001b[0m\u001b[0m\n\u001b[1;32m----> 3\u001b[1;33m \u001b[0mprint\u001b[0m\u001b[1;33m(\u001b[0m\u001b[0mn1\u001b[0m\u001b[1;33m/\u001b[0m\u001b[0mn2\u001b[0m\u001b[1;33m)\u001b[0m\u001b[1;33m\u001b[0m\u001b[1;33m\u001b[0m\u001b[0m\n\u001b[0m",
      "\u001b[1;31mTypeError\u001b[0m: unsupported operand type(s) for /: 'str' and 'str'"
     ]
    }
   ],
   "source": [
    "n1=input(\"number1:\")\n",
    "n2 = input(\"number2:\")\n",
    "print(n1/n2)"
   ]
  },
  {
   "cell_type": "code",
   "execution_count": null,
   "metadata": {},
   "outputs": [],
   "source": []
  }
 ],
 "metadata": {
  "kernelspec": {
   "display_name": "Python 3",
   "language": "python",
   "name": "python3"
  },
  "language_info": {
   "codemirror_mode": {
    "name": "ipython",
    "version": 3
   },
   "file_extension": ".py",
   "mimetype": "text/x-python",
   "name": "python",
   "nbconvert_exporter": "python",
   "pygments_lexer": "ipython3",
   "version": "3.7.3"
  }
 },
 "nbformat": 4,
 "nbformat_minor": 2
}
